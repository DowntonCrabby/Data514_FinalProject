{
 "cells": [
  {
   "cell_type": "markdown",
   "metadata": {},
   "source": [
    "<div style=\"padding: 5px; padding-left: 10px; background: #d1e0e0; \">\n",
    "<h1> Pre-Processing (SUBSET) Pipeline Demo</h1> \n",
    "<h5> Preparing AirBNB dataset for upload to database</h5> \n",
    "<h5> Kate Roll, CSE 514 Spring 2022</h5> "
   ]
  },
  {
   "cell_type": "markdown",
   "metadata": {},
   "source": [
    "<div style=\"padding: 5px; padding-left: 10px; background: #e6e6e6; \">\n",
    "    \n",
    "<h1> Table of Contents & Jumplinks </h1> \n",
    "<h3><a href='#imports'>Imports</a></h3>\n",
    "<h3><a href='#functions'>Define data cleaning functions</a></h3>\n",
    "<h3><a href='#listings'>Listings</a></h3>\n",
    "    \n",
    "* load city datasets \n",
    "* create unified dataframe\n",
    "* remove out of scope columns\n",
    "* clean individual columns\n",
    "* save updated csv for import into compasss\n",
    "\n",
    "<h3><a href='#calendar'>Calendar</a></h3>\n",
    "    \n",
    "* load city datasets \n",
    "* create unified dataframe\n",
    "* clean individual columns\n",
    "* save updated csv for import into compasss\n",
    "\n",
    "<h3><a href='#reviews'>Reviews</a></h3>\n",
    "    \n",
    "* load city datasets \n",
    "* create unified dataframe\n",
    "* clean individual columns\n",
    "* save updated csv for import into compasss\n",
    "\n",
    "<h3><a href='#neighborhoods'>Neighborhoods</a></h3>\n",
    "    \n",
    "* load city datasets \n",
    "* create unified dataframe\n",
    "* clean individual columns\n",
    "* save updated csv for import into compasss\n"
   ]
  },
  {
   "cell_type": "markdown",
   "metadata": {},
   "source": [
    "## Python Imports"
   ]
  },
  {
   "cell_type": "markdown",
   "metadata": {},
   "source": [
    "<a id='imports'></a>"
   ]
  },
  {
   "cell_type": "code",
   "execution_count": 1,
   "metadata": {},
   "outputs": [],
   "source": [
    "import os\n",
    "import re\n",
    "import numpy as np\n",
    "import pandas as pd\n",
    "import seaborn as sns"
   ]
  },
  {
   "cell_type": "markdown",
   "metadata": {},
   "source": [
    "## Create Functions"
   ]
  },
  {
   "cell_type": "markdown",
   "metadata": {},
   "source": [
    "<a id='functions'></a>"
   ]
  },
  {
   "cell_type": "code",
   "execution_count": 2,
   "metadata": {},
   "outputs": [],
   "source": [
    "punctuation_dict = {36: None, 44: None} # $ and , \n",
    "\n",
    "def remove_monetary_punctuation(input_string):\n",
    "    output_string = input_string.translate(punctuation_dict)\n",
    "    output_string = output_string.strip()\n",
    "    return output_string"
   ]
  },
  {
   "cell_type": "code",
   "execution_count": 3,
   "metadata": {},
   "outputs": [],
   "source": [
    "# includes . \n",
    "digits_dict = {46: None, 48: None, 49: None, 50: None, 51: None, 52: None, 53: None, 54: None,55: None, 56: None, 57: None}\n",
    "      \n",
    "def remove_numbers(input_string):\n",
    "    output_string = input_string.translate(digits_dict)\n",
    "    output_string = output_string.strip()\n",
    "    return output_string"
   ]
  },
  {
   "cell_type": "code",
   "execution_count": 4,
   "metadata": {},
   "outputs": [],
   "source": [
    "# includes - \n",
    "alpha_dict = {45: None, 65: None, 66: None, 67: None, 68: None, 69: None, 70: None, 71: None, 72: None, 73: None, 74: None,\n",
    "              75: None, 76: None, 77: None, 78: None, 79: None, 80: None, 81: None, 82: None, 83: None, 84: None, 85: None,\n",
    "              86: None, 87: None, 88: None, 89: None, 90: None,\n",
    "              97: None, 98: None, 99: None, 100: None, 101: None, 102: None, 103: None, 104: None, 105: None, 106: None,\n",
    "             107: None, 108: None, 109: None, 110: None, 111: None, 112: None, 113: None, 114: None, 115: None, 116: None,\n",
    "             117: None, 118: None, 119: None, 120: None, 121: None, 122: None}\n",
    "\n",
    "def remove_alpha(input_string):\n",
    "    output_string = input_string.translate(alpha_dict)\n",
    "    output_string = output_string.strip()\n",
    "    return output_string"
   ]
  },
  {
   "cell_type": "code",
   "execution_count": 5,
   "metadata": {},
   "outputs": [],
   "source": [
    "def replace_baths_strings(input_string):\n",
    "    output_string = input_string.replace('baths', '')\n",
    "    output_string = output_string.replace('bath', '')\n",
    "    output_string = output_string.replace('half-bath', '')\n",
    "    output_string = output_string.replace(' s', '')\n",
    "    output_string = output_string.replace('S', 's')\n",
    "    output_string = output_string.replace('P', 'p')\n",
    "    output_string = output_string.strip()\n",
    "    return output_string"
   ]
  },
  {
   "cell_type": "code",
   "execution_count": 6,
   "metadata": {},
   "outputs": [],
   "source": [
    "def replace_half_string(input_string):\n",
    "    output_string = input_string.replace('Half-bath','.5')\n",
    "    output_string = output_string.replace('half-bath','.5')\n",
    "    output_string = output_string.strip()\n",
    "    return output_string"
   ]
  },
  {
   "cell_type": "markdown",
   "metadata": {},
   "source": [
    "<a id='listings'></a>"
   ]
  },
  {
   "cell_type": "markdown",
   "metadata": {},
   "source": [
    "\n",
    "<h2> Listings</h2> "
   ]
  },
  {
   "cell_type": "markdown",
   "metadata": {},
   "source": [
    "<div style=\"padding: 5px; padding-left: 10px; background: #F0FAFF; \"> \n",
    "\n",
    "Load the data & add relevant columns for specific cities\n",
    "    \n",
    "* load from csv\n",
    "* add city, state"
   ]
  },
  {
   "cell_type": "code",
   "execution_count": 7,
   "metadata": {},
   "outputs": [],
   "source": [
    "portland_fp = r\"C:\\Users\\kater\\AI_python_packages\\CSE514\\project_datasets\\input_csvs\\listings_Portland.csv\"\n",
    "listings_portland = pd.read_csv(portland_fp)\n",
    "listings_portland[\"city_state\"] = \"Portland, OR\"\n",
    "listings_portland[\"state\"] = \"Oregon\"\n",
    "\n",
    "\n",
    "sanDiego_fp = r\"C:\\Users\\kater\\AI_python_packages\\CSE514\\project_datasets\\input_csvs\\listings_SanDiego.csv\"\n",
    "listings_SD = pd.read_csv(sanDiego_fp)\n",
    "listings_SD[\"city_state\"] = \"San Diego, CA\"\n",
    "listings_SD[\"state\"] = \"California\""
   ]
  },
  {
   "cell_type": "markdown",
   "metadata": {},
   "source": [
    "<div style=\"padding: 5px; padding-left: 10px; background: #F0FAFF; \"> \n",
    "Create single dataframe with all listings"
   ]
  },
  {
   "cell_type": "code",
   "execution_count": 8,
   "metadata": {},
   "outputs": [],
   "source": [
    "listings = pd.DataFrame()\n",
    "\n",
    "listings = listings.append(listings_portland)\n",
    "listings = listings.append(listings_SD)\n",
    "\n",
    "listings = listings.reset_index(drop = True)"
   ]
  },
  {
   "cell_type": "markdown",
   "metadata": {},
   "source": [
    "view all the columns"
   ]
  },
  {
   "cell_type": "code",
   "execution_count": 9,
   "metadata": {},
   "outputs": [
    {
     "data": {
      "text/plain": [
       "Index(['id', 'listing_url', 'scrape_id', 'last_scraped', 'name', 'description',\n",
       "       'neighborhood_overview', 'picture_url', 'host_id', 'host_url',\n",
       "       'host_name', 'host_since', 'host_location', 'host_about',\n",
       "       'host_response_time', 'host_response_rate', 'host_acceptance_rate',\n",
       "       'host_is_superhost', 'host_thumbnail_url', 'host_picture_url',\n",
       "       'host_neighbourhood', 'host_listings_count',\n",
       "       'host_total_listings_count', 'host_verifications',\n",
       "       'host_has_profile_pic', 'host_identity_verified', 'neighbourhood',\n",
       "       'neighbourhood_cleansed', 'neighbourhood_group_cleansed', 'latitude',\n",
       "       'longitude', 'property_type', 'room_type', 'accommodates', 'bathrooms',\n",
       "       'bathrooms_text', 'bedrooms', 'beds', 'amenities', 'price',\n",
       "       'minimum_nights', 'maximum_nights', 'minimum_minimum_nights',\n",
       "       'maximum_minimum_nights', 'minimum_maximum_nights',\n",
       "       'maximum_maximum_nights', 'minimum_nights_avg_ntm',\n",
       "       'maximum_nights_avg_ntm', 'calendar_updated', 'has_availability',\n",
       "       'availability_30', 'availability_60', 'availability_90',\n",
       "       'availability_365', 'calendar_last_scraped', 'number_of_reviews',\n",
       "       'number_of_reviews_ltm', 'number_of_reviews_l30d', 'first_review',\n",
       "       'last_review', 'review_scores_rating', 'review_scores_accuracy',\n",
       "       'review_scores_cleanliness', 'review_scores_checkin',\n",
       "       'review_scores_communication', 'review_scores_location',\n",
       "       'review_scores_value', 'license', 'instant_bookable',\n",
       "       'calculated_host_listings_count',\n",
       "       'calculated_host_listings_count_entire_homes',\n",
       "       'calculated_host_listings_count_private_rooms',\n",
       "       'calculated_host_listings_count_shared_rooms', 'reviews_per_month',\n",
       "       'city_state', 'state'],\n",
       "      dtype='object')"
      ]
     },
     "execution_count": 9,
     "metadata": {},
     "output_type": "execute_result"
    }
   ],
   "source": [
    "listings.columns"
   ]
  },
  {
   "cell_type": "markdown",
   "metadata": {},
   "source": [
    "<div style=\"padding: 1px; padding-left: 10px; background: #F0FAFF; \"> \n",
    "<h4> Remove out of scope / project irrelevant columns</h4>  \n",
    "\n",
    "**out of scope for project**\n",
    "\n",
    "- listing_url\n",
    "- host_url\n",
    "- host_thumbnail_url\n",
    "- host_picture_url\n",
    "- picture_url\n",
    "\n",
    "**info contained in another column**\n",
    "- host_response_time  -> score_communication\n",
    "- host_response_rate  -> score_communication\n",
    "- host_neighbourhood  -> host_location\n",
    "- host_listings_count -> calculated_host_listings_count\n",
    "- host_total_listings_count  -> calculated_host_listings_count\n",
    "- host_verifications  -> host_identity_verified\n",
    "- neighbourhood  -> neighbourhood_cleansed\n",
    "\n",
    "**High rates of NA or blank**\n",
    "- host_acceptance_rate\n",
    "- neighbourhood_group_cleansed\n",
    "- bathrooms\n",
    "</div>"
   ]
  },
  {
   "cell_type": "code",
   "execution_count": 10,
   "metadata": {},
   "outputs": [],
   "source": [
    "listings = listings.drop(columns = [\"listing_url\",\n",
    "                                    \"host_url\",\n",
    "                                    \"host_thumbnail_url\",\n",
    "                                    \"host_picture_url\",\n",
    "                                    \"picture_url\",\n",
    "                                    \"host_response_time\",\n",
    "                                    \"host_response_rate\",\n",
    "                                    \"host_neighbourhood\",\n",
    "                                    \"host_listings_count\",\n",
    "                                    \"host_total_listings_count\",\n",
    "                                    \"host_verifications\",\n",
    "                                    \"neighbourhood\",\n",
    "                                    \"host_acceptance_rate\",\n",
    "                                    \"neighbourhood_group_cleansed\",\n",
    "                                    \"bathrooms\"\n",
    "                                   ])"
   ]
  },
  {
   "cell_type": "markdown",
   "metadata": {},
   "source": [
    "<div style=\"padding: 1px; padding-left: 10px; background: #F0FAFF; \"> \n",
    "<h3> Clean up specific columns</h3>\n",
    "\n",
    "**renaming**\n",
    "\n",
    "- \"id\" renamed to  \"listing_id\"\n",
    "- \"neighborhoods_cleansed\" to \"neighborhood\"\n",
    "\n",
    "**parsing**\n",
    "- \"bathrooms_text\" becomes \"bathroom_number\" (float) and \"bathroom_description\"(string, shared, private or other descriptors)\n",
    "\n",
    "\n",
    "**typing**\n",
    "- \"pricing\" from string to float\n",
    "\n",
    "**adjust boolean format**\n",
    "input foramt is t,f but need to adjust to true, false for mongodb format\n",
    "- has_availability\n",
    "- instant_bookable\n",
    "- host_is_superhost\n",
    "- host_has_profile_pic\n",
    "- host_identity_verified\n",
    "\n",
    "</div>"
   ]
  },
  {
   "cell_type": "markdown",
   "metadata": {},
   "source": [
    "<div style=\"padding: 5px; padding-left: 10px; background: #F0FAFF; \"> \n",
    "id -> listing_id"
   ]
  },
  {
   "cell_type": "code",
   "execution_count": 11,
   "metadata": {},
   "outputs": [],
   "source": [
    "listings = listings.rename(columns={\"id\":\"listing_id\",\n",
    "                                    'neighbourhood_cleansed': \"neighborhood\"})"
   ]
  },
  {
   "cell_type": "markdown",
   "metadata": {},
   "source": [
    "<div style=\"padding: 5px; padding-left: 10px; background: #F0FAFF; \"> \n",
    "Price becomes float"
   ]
  },
  {
   "cell_type": "code",
   "execution_count": 12,
   "metadata": {},
   "outputs": [],
   "source": [
    "listings[\"price\"] = listings[\"price\"].map(lambda x: remove_monetary_punctuation(x))    \n",
    "listings[\"price\"] = listings[\"price\"].astype(float)"
   ]
  },
  {
   "cell_type": "markdown",
   "metadata": {},
   "source": [
    "<div style=\"padding: 5px; padding-left: 10px; background: #F0FAFF; \"> \n",
    "\n",
    "Parsing  bathrooms_text into two more cleaned up columns\n",
    "\n",
    "creating the bathroom_number column"
   ]
  },
  {
   "cell_type": "code",
   "execution_count": 13,
   "metadata": {},
   "outputs": [],
   "source": [
    "# create the new column\n",
    "listings[\"bathroom_number\"] = listings[\"bathrooms_text\"].copy()\n",
    "\n",
    "# fill nans with blank strings\n",
    "values = {\"bathroom_number\": \"\"}\n",
    "listings = listings.fillna(value=values)\n",
    "\n",
    "# update & remove text\n",
    "listings[\"bathroom_number\"] = listings[\"bathroom_number\"].map(lambda x: replace_half_string(x))\n",
    "listings[\"bathroom_number\"] = listings[\"bathroom_number\"].map(lambda x: remove_alpha(x))\n",
    "\n",
    "# replace all empty strings with nan (for float conversion)\n",
    "listings[\"bathroom_number\"] = listings[\"bathroom_number\"].replace(r'^\\s*$', np.nan, regex=True)\n",
    "\n",
    "#convert to float\n",
    "listings[\"bathroom_number\"] = listings[\"bathroom_number\"].astype(float)\n"
   ]
  },
  {
   "cell_type": "markdown",
   "metadata": {},
   "source": [
    "<div style=\"padding: 5px; padding-left: 10px; background: #F0FAFF; \"> \n",
    "creating bathroom_description column"
   ]
  },
  {
   "cell_type": "code",
   "execution_count": 14,
   "metadata": {},
   "outputs": [],
   "source": [
    "# create the new column\n",
    "listings[\"bathroom_description\"] = listings[\"bathrooms_text\"].copy()\n",
    "\n",
    "# fill nans with blank strings\n",
    "values = {\"bathroom_description\": \"\"}\n",
    "listings = listings.fillna(value=values)\n",
    "\n",
    "# text filtering\n",
    "listings[\"bathroom_description\"] = listings[\"bathroom_description\"].map(lambda x: replace_half_string(x))\n",
    "listings[\"bathroom_description\"] = listings[\"bathroom_description\"].map(lambda x: remove_numbers(x))\n",
    "listings[\"bathroom_description\"] = listings[\"bathroom_description\"].map(lambda x: replace_baths_strings(x))\n"
   ]
  },
  {
   "cell_type": "markdown",
   "metadata": {},
   "source": [
    "<div style=\"padding: 5px; padding-left: 10px; background: #F0FAFF; \"> \n",
    "now drop the old bathrooms_text column"
   ]
  },
  {
   "cell_type": "code",
   "execution_count": 15,
   "metadata": {},
   "outputs": [],
   "source": [
    "listings = listings.drop(columns = [\"bathrooms_text\"])"
   ]
  },
  {
   "cell_type": "markdown",
   "metadata": {},
   "source": [
    "<div style=\"padding: 5px; padding-left: 10px; background: #F0FAFF; \"> \n",
    "update boolean value columns"
   ]
  },
  {
   "cell_type": "code",
   "execution_count": 16,
   "metadata": {},
   "outputs": [],
   "source": [
    "listings[[\"has_availability\",\n",
    "          \"instant_bookable\",\n",
    "          \"host_is_superhost\",\n",
    "          \"host_has_profile_pic\",\n",
    "          \"host_identity_verified\"]] = listings[[\"has_availability\",\n",
    "                                                 \"instant_bookable\",\n",
    "                                                 \"host_is_superhost\",\n",
    "                                                 \"host_has_profile_pic\",\n",
    "                                                 \"host_identity_verified\"]].replace({\"t\":\"true\", \"f\": \"false\"})"
   ]
  },
  {
   "cell_type": "markdown",
   "metadata": {},
   "source": [
    "<div style=\"padding: 5px; padding-left: 10px; background: #F0FAFF; \"> \n",
    "save updated csv"
   ]
  },
  {
   "cell_type": "code",
   "execution_count": 17,
   "metadata": {},
   "outputs": [],
   "source": [
    "csv_save_path = r\"C:\\Users\\kater\\AI_python_packages\\CSE514\\project_datasets\\preprocessed_csvs\\subset\"\n",
    "save_name = \"listings_subset.csv\"\n",
    "listings.to_csv(os.path.join(csv_save_path, save_name))"
   ]
  },
  {
   "cell_type": "markdown",
   "metadata": {},
   "source": [
    "## Calendar"
   ]
  },
  {
   "cell_type": "markdown",
   "metadata": {},
   "source": [
    "<a id='calendar'></a>"
   ]
  },
  {
   "cell_type": "markdown",
   "metadata": {},
   "source": [
    "<div style=\"padding: 5px; padding-left: 10px; background: #F0FAFF; \">\n",
    "\n",
    "* Load city data\n",
    "* add necessary city, state information"
   ]
  },
  {
   "cell_type": "code",
   "execution_count": 18,
   "metadata": {},
   "outputs": [],
   "source": [
    "portland_fp = r\"C:\\Users\\kater\\AI_python_packages\\CSE514\\project_datasets\\input_csvs\\calendar_Portland.csv\"\n",
    "calendar_portland = pd.read_csv(portland_fp)\n",
    "calendar_portland[\"city_state\"] = \"Portland, OR\"\n",
    "calendar_portland[\"state\"] = \"Oregon\"\n",
    "\n",
    "sanDiego_fp = r\"C:\\Users\\kater\\AI_python_packages\\CSE514\\project_datasets\\input_csvs\\calendar_SanDiego.csv\"\n",
    "calendar_SD = pd.read_csv(sanDiego_fp)\n",
    "calendar_SD[\"city_state\"] = \"San Diego, CA\"\n",
    "calendar_SD[\"state\"] = \"California\""
   ]
  },
  {
   "cell_type": "markdown",
   "metadata": {},
   "source": [
    "<div style=\"padding: 5px; padding-left: 10px; background: #F0FAFF; \"> \n",
    "create unified dataframe"
   ]
  },
  {
   "cell_type": "code",
   "execution_count": 19,
   "metadata": {},
   "outputs": [],
   "source": [
    "calendar_df = pd.DataFrame()\n",
    "\n",
    "calendar_df = calendar_df.append(calendar_portland)\n",
    "calendar_df = calendar_df.append(calendar_SD)\n",
    "\n",
    "calendar_df = calendar_df.reset_index(drop = True)"
   ]
  },
  {
   "cell_type": "code",
   "execution_count": 20,
   "metadata": {},
   "outputs": [
    {
     "data": {
      "text/html": [
       "<div>\n",
       "<style scoped>\n",
       "    .dataframe tbody tr th:only-of-type {\n",
       "        vertical-align: middle;\n",
       "    }\n",
       "\n",
       "    .dataframe tbody tr th {\n",
       "        vertical-align: top;\n",
       "    }\n",
       "\n",
       "    .dataframe thead th {\n",
       "        text-align: right;\n",
       "    }\n",
       "</style>\n",
       "<table border=\"1\" class=\"dataframe\">\n",
       "  <thead>\n",
       "    <tr style=\"text-align: right;\">\n",
       "      <th></th>\n",
       "      <th>listing_id</th>\n",
       "      <th>date</th>\n",
       "      <th>available</th>\n",
       "      <th>price</th>\n",
       "      <th>adjusted_price</th>\n",
       "      <th>minimum_nights</th>\n",
       "      <th>maximum_nights</th>\n",
       "      <th>city_state</th>\n",
       "      <th>state</th>\n",
       "    </tr>\n",
       "  </thead>\n",
       "  <tbody>\n",
       "    <tr>\n",
       "      <th>0</th>\n",
       "      <td>1007277</td>\n",
       "      <td>2021-12-20</td>\n",
       "      <td>f</td>\n",
       "      <td>$60.00</td>\n",
       "      <td>$60.00</td>\n",
       "      <td>30.0</td>\n",
       "      <td>365.0</td>\n",
       "      <td>Portland, OR</td>\n",
       "      <td>Oregon</td>\n",
       "    </tr>\n",
       "    <tr>\n",
       "      <th>1</th>\n",
       "      <td>317797</td>\n",
       "      <td>2021-12-20</td>\n",
       "      <td>f</td>\n",
       "      <td>$45.00</td>\n",
       "      <td>$41.00</td>\n",
       "      <td>30.0</td>\n",
       "      <td>150.0</td>\n",
       "      <td>Portland, OR</td>\n",
       "      <td>Oregon</td>\n",
       "    </tr>\n",
       "    <tr>\n",
       "      <th>2</th>\n",
       "      <td>317797</td>\n",
       "      <td>2021-12-21</td>\n",
       "      <td>f</td>\n",
       "      <td>$45.00</td>\n",
       "      <td>$41.00</td>\n",
       "      <td>30.0</td>\n",
       "      <td>150.0</td>\n",
       "      <td>Portland, OR</td>\n",
       "      <td>Oregon</td>\n",
       "    </tr>\n",
       "    <tr>\n",
       "      <th>3</th>\n",
       "      <td>317797</td>\n",
       "      <td>2021-12-22</td>\n",
       "      <td>f</td>\n",
       "      <td>$45.00</td>\n",
       "      <td>$45.00</td>\n",
       "      <td>30.0</td>\n",
       "      <td>150.0</td>\n",
       "      <td>Portland, OR</td>\n",
       "      <td>Oregon</td>\n",
       "    </tr>\n",
       "    <tr>\n",
       "      <th>4</th>\n",
       "      <td>317797</td>\n",
       "      <td>2021-12-23</td>\n",
       "      <td>f</td>\n",
       "      <td>$45.00</td>\n",
       "      <td>$45.00</td>\n",
       "      <td>30.0</td>\n",
       "      <td>150.0</td>\n",
       "      <td>Portland, OR</td>\n",
       "      <td>Oregon</td>\n",
       "    </tr>\n",
       "    <tr>\n",
       "      <th>...</th>\n",
       "      <td>...</td>\n",
       "      <td>...</td>\n",
       "      <td>...</td>\n",
       "      <td>...</td>\n",
       "      <td>...</td>\n",
       "      <td>...</td>\n",
       "      <td>...</td>\n",
       "      <td>...</td>\n",
       "      <td>...</td>\n",
       "    </tr>\n",
       "    <tr>\n",
       "      <th>5120218</th>\n",
       "      <td>53888972</td>\n",
       "      <td>2022-12-16</td>\n",
       "      <td>t</td>\n",
       "      <td>$650.00</td>\n",
       "      <td>$650.00</td>\n",
       "      <td>5.0</td>\n",
       "      <td>365.0</td>\n",
       "      <td>San Diego, CA</td>\n",
       "      <td>California</td>\n",
       "    </tr>\n",
       "    <tr>\n",
       "      <th>5120219</th>\n",
       "      <td>53888972</td>\n",
       "      <td>2022-12-17</td>\n",
       "      <td>t</td>\n",
       "      <td>$650.00</td>\n",
       "      <td>$650.00</td>\n",
       "      <td>5.0</td>\n",
       "      <td>365.0</td>\n",
       "      <td>San Diego, CA</td>\n",
       "      <td>California</td>\n",
       "    </tr>\n",
       "    <tr>\n",
       "      <th>5120220</th>\n",
       "      <td>53888972</td>\n",
       "      <td>2022-12-18</td>\n",
       "      <td>t</td>\n",
       "      <td>$650.00</td>\n",
       "      <td>$650.00</td>\n",
       "      <td>5.0</td>\n",
       "      <td>365.0</td>\n",
       "      <td>San Diego, CA</td>\n",
       "      <td>California</td>\n",
       "    </tr>\n",
       "    <tr>\n",
       "      <th>5120221</th>\n",
       "      <td>53888972</td>\n",
       "      <td>2022-12-19</td>\n",
       "      <td>t</td>\n",
       "      <td>$650.00</td>\n",
       "      <td>$650.00</td>\n",
       "      <td>5.0</td>\n",
       "      <td>365.0</td>\n",
       "      <td>San Diego, CA</td>\n",
       "      <td>California</td>\n",
       "    </tr>\n",
       "    <tr>\n",
       "      <th>5120222</th>\n",
       "      <td>53888972</td>\n",
       "      <td>2022-12-20</td>\n",
       "      <td>f</td>\n",
       "      <td>$650.00</td>\n",
       "      <td>$650.00</td>\n",
       "      <td>5.0</td>\n",
       "      <td>365.0</td>\n",
       "      <td>San Diego, CA</td>\n",
       "      <td>California</td>\n",
       "    </tr>\n",
       "  </tbody>\n",
       "</table>\n",
       "<p>5120223 rows × 9 columns</p>\n",
       "</div>"
      ],
      "text/plain": [
       "         listing_id        date available    price adjusted_price  \\\n",
       "0           1007277  2021-12-20         f   $60.00         $60.00   \n",
       "1            317797  2021-12-20         f   $45.00         $41.00   \n",
       "2            317797  2021-12-21         f   $45.00         $41.00   \n",
       "3            317797  2021-12-22         f   $45.00         $45.00   \n",
       "4            317797  2021-12-23         f   $45.00         $45.00   \n",
       "...             ...         ...       ...      ...            ...   \n",
       "5120218    53888972  2022-12-16         t  $650.00        $650.00   \n",
       "5120219    53888972  2022-12-17         t  $650.00        $650.00   \n",
       "5120220    53888972  2022-12-18         t  $650.00        $650.00   \n",
       "5120221    53888972  2022-12-19         t  $650.00        $650.00   \n",
       "5120222    53888972  2022-12-20         f  $650.00        $650.00   \n",
       "\n",
       "         minimum_nights  maximum_nights     city_state       state  \n",
       "0                  30.0           365.0   Portland, OR      Oregon  \n",
       "1                  30.0           150.0   Portland, OR      Oregon  \n",
       "2                  30.0           150.0   Portland, OR      Oregon  \n",
       "3                  30.0           150.0   Portland, OR      Oregon  \n",
       "4                  30.0           150.0   Portland, OR      Oregon  \n",
       "...                 ...             ...            ...         ...  \n",
       "5120218             5.0           365.0  San Diego, CA  California  \n",
       "5120219             5.0           365.0  San Diego, CA  California  \n",
       "5120220             5.0           365.0  San Diego, CA  California  \n",
       "5120221             5.0           365.0  San Diego, CA  California  \n",
       "5120222             5.0           365.0  San Diego, CA  California  \n",
       "\n",
       "[5120223 rows x 9 columns]"
      ]
     },
     "execution_count": 20,
     "metadata": {},
     "output_type": "execute_result"
    }
   ],
   "source": [
    "calendar_df"
   ]
  },
  {
   "cell_type": "markdown",
   "metadata": {},
   "source": [
    "<div style=\"padding: 5px; padding-left: 10px; background: #F0FAFF; \"> \n",
    "update boolean value columns"
   ]
  },
  {
   "cell_type": "code",
   "execution_count": 21,
   "metadata": {},
   "outputs": [],
   "source": [
    "calendar_df[\"available\"] = calendar_df[\"available\"].replace({\"t\":\"true\", \"f\": \"false\"})"
   ]
  },
  {
   "cell_type": "markdown",
   "metadata": {},
   "source": [
    "<div style=\"padding: 5px; padding-left: 10px; background: #F0FAFF; \"> \n",
    "clean up money columns"
   ]
  },
  {
   "cell_type": "code",
   "execution_count": 22,
   "metadata": {},
   "outputs": [],
   "source": [
    "calendar_df[\"price\"] = calendar_df[\"price\"].astype(str)\n",
    "calendar_df[\"price\"] = calendar_df[\"price\"].map(lambda x: remove_monetary_punctuation(x))\n",
    "calendar_df[\"price\"] = calendar_df[\"price\"].astype(float)"
   ]
  },
  {
   "cell_type": "code",
   "execution_count": 23,
   "metadata": {},
   "outputs": [],
   "source": [
    "calendar_df[\"adjusted_price\"] = calendar_df[\"adjusted_price\"].astype(str)\n",
    "calendar_df[\"adjusted_price\"] = calendar_df[\"adjusted_price\"].map(lambda x: remove_monetary_punctuation(x))\n",
    "calendar_df[\"adjusted_price\"] = calendar_df[\"adjusted_price\"].astype(float)"
   ]
  },
  {
   "cell_type": "markdown",
   "metadata": {},
   "source": [
    "<div style=\"padding: 5px; padding-left: 10px; background: #F0FAFF; \"> \n",
    "save updated csv"
   ]
  },
  {
   "cell_type": "code",
   "execution_count": 24,
   "metadata": {},
   "outputs": [],
   "source": [
    "csv_save_path = r\"C:\\Users\\kater\\AI_python_packages\\CSE514\\project_datasets\\preprocessed_csvs\\subset\"\n",
    "save_name = \"calendar_subset.csv\"\n",
    "calendar_df.to_csv(os.path.join(csv_save_path, save_name))"
   ]
  },
  {
   "cell_type": "markdown",
   "metadata": {},
   "source": [
    "## Reviews"
   ]
  },
  {
   "cell_type": "markdown",
   "metadata": {},
   "source": [
    "<a id='reviews'></a>"
   ]
  },
  {
   "cell_type": "markdown",
   "metadata": {},
   "source": [
    "<div style=\"padding: 5px; padding-left: 10px; background: #F0FAFF; \">\n",
    " \n",
    "* load data for each city\n",
    "* add relevant city, state information to dataframe"
   ]
  },
  {
   "cell_type": "code",
   "execution_count": 25,
   "metadata": {},
   "outputs": [],
   "source": [
    "portland_fp = r\"C:\\Users\\kater\\AI_python_packages\\CSE514\\project_datasets\\input_csvs\\reviews_Portland.csv\"\n",
    "reviews_portland = pd.read_csv(portland_fp)\n",
    "reviews_portland[\"city_state\"] = \"Portland, OR\"\n",
    "reviews_portland[\"state\"] = \"Oregon\"\n",
    "\n",
    "sanDiego_fp = r\"C:\\Users\\kater\\AI_python_packages\\CSE514\\project_datasets\\input_csvs\\reviews_SanDiego.csv\"\n",
    "reviews_SD = pd.read_csv(sanDiego_fp)\n",
    "reviews_SD[\"city_state\"] = \"San Diego, CA\"\n",
    "reviews_SD[\"state\"] = \"California\""
   ]
  },
  {
   "cell_type": "markdown",
   "metadata": {},
   "source": [
    "<div style=\"padding: 5px; padding-left: 10px; background: #F0FAFF; \"> \n",
    " create a unified dataframe"
   ]
  },
  {
   "cell_type": "code",
   "execution_count": 26,
   "metadata": {},
   "outputs": [],
   "source": [
    "reviews_df = pd.DataFrame()\n",
    "\n",
    "reviews_df = reviews_df.append(reviews_portland)\n",
    "reviews_df = reviews_df.append(reviews_SD)\n",
    "\n",
    "reviews_df = reviews_df.reset_index(drop = True)"
   ]
  },
  {
   "cell_type": "markdown",
   "metadata": {},
   "source": [
    "view the unified dataframe"
   ]
  },
  {
   "cell_type": "code",
   "execution_count": 27,
   "metadata": {},
   "outputs": [
    {
     "data": {
      "text/html": [
       "<div>\n",
       "<style scoped>\n",
       "    .dataframe tbody tr th:only-of-type {\n",
       "        vertical-align: middle;\n",
       "    }\n",
       "\n",
       "    .dataframe tbody tr th {\n",
       "        vertical-align: top;\n",
       "    }\n",
       "\n",
       "    .dataframe thead th {\n",
       "        text-align: right;\n",
       "    }\n",
       "</style>\n",
       "<table border=\"1\" class=\"dataframe\">\n",
       "  <thead>\n",
       "    <tr style=\"text-align: right;\">\n",
       "      <th></th>\n",
       "      <th>listing_id</th>\n",
       "      <th>id</th>\n",
       "      <th>date</th>\n",
       "      <th>reviewer_id</th>\n",
       "      <th>reviewer_name</th>\n",
       "      <th>comments</th>\n",
       "      <th>city_state</th>\n",
       "      <th>state</th>\n",
       "    </tr>\n",
       "  </thead>\n",
       "  <tbody>\n",
       "    <tr>\n",
       "      <th>0</th>\n",
       "      <td>12899</td>\n",
       "      <td>24767</td>\n",
       "      <td>2010-01-24</td>\n",
       "      <td>69327</td>\n",
       "      <td>Stuart</td>\n",
       "      <td>Recommended! Very good value for a spacious, a...</td>\n",
       "      <td>Portland, OR</td>\n",
       "      <td>Oregon</td>\n",
       "    </tr>\n",
       "    <tr>\n",
       "      <th>1</th>\n",
       "      <td>12899</td>\n",
       "      <td>29230</td>\n",
       "      <td>2010-03-13</td>\n",
       "      <td>72846</td>\n",
       "      <td>John</td>\n",
       "      <td>Our ten days visiting in Portland were enormou...</td>\n",
       "      <td>Portland, OR</td>\n",
       "      <td>Oregon</td>\n",
       "    </tr>\n",
       "    <tr>\n",
       "      <th>2</th>\n",
       "      <td>12899</td>\n",
       "      <td>29806</td>\n",
       "      <td>2010-03-16</td>\n",
       "      <td>84196</td>\n",
       "      <td>Lois</td>\n",
       "      <td>We had a wonderful time staying in the area of...</td>\n",
       "      <td>Portland, OR</td>\n",
       "      <td>Oregon</td>\n",
       "    </tr>\n",
       "    <tr>\n",
       "      <th>3</th>\n",
       "      <td>12899</td>\n",
       "      <td>32572</td>\n",
       "      <td>2010-03-31</td>\n",
       "      <td>89114</td>\n",
       "      <td>Troy</td>\n",
       "      <td>I stayed at Ali and David's place when I first...</td>\n",
       "      <td>Portland, OR</td>\n",
       "      <td>Oregon</td>\n",
       "    </tr>\n",
       "    <tr>\n",
       "      <th>4</th>\n",
       "      <td>12899</td>\n",
       "      <td>32862</td>\n",
       "      <td>2010-04-02</td>\n",
       "      <td>100318</td>\n",
       "      <td>Cathy</td>\n",
       "      <td>Clean, comfortable, quiet rooms; easygoing gen...</td>\n",
       "      <td>Portland, OR</td>\n",
       "      <td>Oregon</td>\n",
       "    </tr>\n",
       "    <tr>\n",
       "      <th>...</th>\n",
       "      <td>...</td>\n",
       "      <td>...</td>\n",
       "      <td>...</td>\n",
       "      <td>...</td>\n",
       "      <td>...</td>\n",
       "      <td>...</td>\n",
       "      <td>...</td>\n",
       "      <td>...</td>\n",
       "    </tr>\n",
       "    <tr>\n",
       "      <th>905103</th>\n",
       "      <td>53718610</td>\n",
       "      <td>518130203288656313</td>\n",
       "      <td>2021-12-15</td>\n",
       "      <td>16978410</td>\n",
       "      <td>Shane</td>\n",
       "      <td>Great space &amp; fantastic location.</td>\n",
       "      <td>San Diego, CA</td>\n",
       "      <td>California</td>\n",
       "    </tr>\n",
       "    <tr>\n",
       "      <th>905104</th>\n",
       "      <td>53720922</td>\n",
       "      <td>521033633319756978</td>\n",
       "      <td>2021-12-19</td>\n",
       "      <td>385360514</td>\n",
       "      <td>Bharat</td>\n",
       "      <td>Abi is a very friendly person and has maintain...</td>\n",
       "      <td>San Diego, CA</td>\n",
       "      <td>California</td>\n",
       "    </tr>\n",
       "    <tr>\n",
       "      <th>905105</th>\n",
       "      <td>53739940</td>\n",
       "      <td>520413733978185421</td>\n",
       "      <td>2021-12-18</td>\n",
       "      <td>159387690</td>\n",
       "      <td>Karina</td>\n",
       "      <td>Great stay for the budget traveler. Great loca...</td>\n",
       "      <td>San Diego, CA</td>\n",
       "      <td>California</td>\n",
       "    </tr>\n",
       "    <tr>\n",
       "      <th>905106</th>\n",
       "      <td>53741856</td>\n",
       "      <td>515250225323801864</td>\n",
       "      <td>2021-12-11</td>\n",
       "      <td>355982576</td>\n",
       "      <td>Jorge</td>\n",
       "      <td>Nice place, great host, excellent location</td>\n",
       "      <td>San Diego, CA</td>\n",
       "      <td>California</td>\n",
       "    </tr>\n",
       "    <tr>\n",
       "      <th>905107</th>\n",
       "      <td>53782900</td>\n",
       "      <td>518945632005303546</td>\n",
       "      <td>2021-12-16</td>\n",
       "      <td>104576459</td>\n",
       "      <td>HE Neter</td>\n",
       "      <td>Clean, Quiet, &amp; Spacious.</td>\n",
       "      <td>San Diego, CA</td>\n",
       "      <td>California</td>\n",
       "    </tr>\n",
       "  </tbody>\n",
       "</table>\n",
       "<p>905108 rows × 8 columns</p>\n",
       "</div>"
      ],
      "text/plain": [
       "        listing_id                  id        date  reviewer_id reviewer_name  \\\n",
       "0            12899               24767  2010-01-24        69327        Stuart   \n",
       "1            12899               29230  2010-03-13        72846          John   \n",
       "2            12899               29806  2010-03-16        84196          Lois   \n",
       "3            12899               32572  2010-03-31        89114          Troy   \n",
       "4            12899               32862  2010-04-02       100318         Cathy   \n",
       "...            ...                 ...         ...          ...           ...   \n",
       "905103    53718610  518130203288656313  2021-12-15     16978410         Shane   \n",
       "905104    53720922  521033633319756978  2021-12-19    385360514        Bharat   \n",
       "905105    53739940  520413733978185421  2021-12-18    159387690        Karina   \n",
       "905106    53741856  515250225323801864  2021-12-11    355982576         Jorge   \n",
       "905107    53782900  518945632005303546  2021-12-16    104576459      HE Neter   \n",
       "\n",
       "                                                 comments     city_state  \\\n",
       "0       Recommended! Very good value for a spacious, a...   Portland, OR   \n",
       "1       Our ten days visiting in Portland were enormou...   Portland, OR   \n",
       "2       We had a wonderful time staying in the area of...   Portland, OR   \n",
       "3       I stayed at Ali and David's place when I first...   Portland, OR   \n",
       "4       Clean, comfortable, quiet rooms; easygoing gen...   Portland, OR   \n",
       "...                                                   ...            ...   \n",
       "905103                  Great space & fantastic location.  San Diego, CA   \n",
       "905104  Abi is a very friendly person and has maintain...  San Diego, CA   \n",
       "905105  Great stay for the budget traveler. Great loca...  San Diego, CA   \n",
       "905106         Nice place, great host, excellent location  San Diego, CA   \n",
       "905107                          Clean, Quiet, & Spacious.  San Diego, CA   \n",
       "\n",
       "             state  \n",
       "0           Oregon  \n",
       "1           Oregon  \n",
       "2           Oregon  \n",
       "3           Oregon  \n",
       "4           Oregon  \n",
       "...            ...  \n",
       "905103  California  \n",
       "905104  California  \n",
       "905105  California  \n",
       "905106  California  \n",
       "905107  California  \n",
       "\n",
       "[905108 rows x 8 columns]"
      ]
     },
     "execution_count": 27,
     "metadata": {},
     "output_type": "execute_result"
    }
   ],
   "source": [
    "reviews_df"
   ]
  },
  {
   "cell_type": "markdown",
   "metadata": {},
   "source": [
    "<div style=\"padding: 5px; padding-left: 10px; background: #F0FAFF; \"> \n",
    "data cleaning:  rename id column to be more descriptive"
   ]
  },
  {
   "cell_type": "code",
   "execution_count": 28,
   "metadata": {},
   "outputs": [],
   "source": [
    "reviews_df = reviews_df.rename(columns={\"id\":\"review_id\"})"
   ]
  },
  {
   "cell_type": "markdown",
   "metadata": {},
   "source": [
    "<div style=\"padding: 5px; padding-left: 10px; background: #F0FAFF; \"> \n",
    "save updated csv"
   ]
  },
  {
   "cell_type": "code",
   "execution_count": 29,
   "metadata": {},
   "outputs": [],
   "source": [
    "csv_save_path = r\"C:\\Users\\kater\\AI_python_packages\\CSE514\\project_datasets\\preprocessed_csvs\\subset\"\n",
    "save_name = \"reviews_subset.csv\"\n",
    "reviews_df.to_csv(os.path.join(csv_save_path, save_name))"
   ]
  },
  {
   "cell_type": "markdown",
   "metadata": {},
   "source": [
    "## Neighborhoods"
   ]
  },
  {
   "cell_type": "markdown",
   "metadata": {},
   "source": [
    "<a id='neighborhoods'></a>"
   ]
  },
  {
   "cell_type": "markdown",
   "metadata": {},
   "source": [
    "<div style=\"padding: 5px; padding-left: 10px; background: #F0FAFF; \">\n",
    " \n",
    "* load data for each city\n",
    "* add relevant city, state information to dataframe"
   ]
  },
  {
   "cell_type": "code",
   "execution_count": 30,
   "metadata": {},
   "outputs": [],
   "source": [
    "portland_fp = r\"C:\\Users\\kater\\AI_python_packages\\CSE514\\project_datasets\\input_csvs\\neighbourhoods_Portland.csv\"\n",
    "neighbourhoods_portland = pd.read_csv(portland_fp)\n",
    "neighbourhoods_portland[\"city_state\"] = \"Portland, OR\"\n",
    "neighbourhoods_portland[\"state\"] = \"Oregon\"\n",
    "\n",
    "sanDiego_fp = r\"C:\\Users\\kater\\AI_python_packages\\CSE514\\project_datasets\\input_csvs\\neighbourhoods_SanDiego.csv\"\n",
    "neighbourhoods_SD = pd.read_csv(sanDiego_fp)\n",
    "neighbourhoods_SD[\"city_state\"] = \"San Diego, CA\"\n",
    "neighbourhoods_SD[\"state\"] = \"California\""
   ]
  },
  {
   "cell_type": "markdown",
   "metadata": {},
   "source": [
    "<div style=\"padding: 5px; padding-left: 10px; background: #F0FAFF; \"> \n",
    " create a unified dataframe"
   ]
  },
  {
   "cell_type": "code",
   "execution_count": 31,
   "metadata": {},
   "outputs": [],
   "source": [
    "neighborhood_df = pd.DataFrame()\n",
    "\n",
    "neighborhood_df = neighborhood_df.append(neighbourhoods_portland)\n",
    "neighborhood_df = neighborhood_df.append(neighbourhoods_SD)\n",
    "\n",
    "neighborhood_df = neighborhood_df.reset_index(drop = True)"
   ]
  },
  {
   "cell_type": "markdown",
   "metadata": {},
   "source": [
    "view unified dataframe"
   ]
  },
  {
   "cell_type": "code",
   "execution_count": 32,
   "metadata": {},
   "outputs": [
    {
     "data": {
      "text/html": [
       "<div>\n",
       "<style scoped>\n",
       "    .dataframe tbody tr th:only-of-type {\n",
       "        vertical-align: middle;\n",
       "    }\n",
       "\n",
       "    .dataframe tbody tr th {\n",
       "        vertical-align: top;\n",
       "    }\n",
       "\n",
       "    .dataframe thead th {\n",
       "        text-align: right;\n",
       "    }\n",
       "</style>\n",
       "<table border=\"1\" class=\"dataframe\">\n",
       "  <thead>\n",
       "    <tr style=\"text-align: right;\">\n",
       "      <th></th>\n",
       "      <th>neighbourhood_group</th>\n",
       "      <th>neighbourhood</th>\n",
       "      <th>city_state</th>\n",
       "      <th>state</th>\n",
       "    </tr>\n",
       "  </thead>\n",
       "  <tbody>\n",
       "    <tr>\n",
       "      <th>0</th>\n",
       "      <td>NaN</td>\n",
       "      <td>Alameda</td>\n",
       "      <td>Portland, OR</td>\n",
       "      <td>Oregon</td>\n",
       "    </tr>\n",
       "    <tr>\n",
       "      <th>1</th>\n",
       "      <td>NaN</td>\n",
       "      <td>Arbor Lodge</td>\n",
       "      <td>Portland, OR</td>\n",
       "      <td>Oregon</td>\n",
       "    </tr>\n",
       "    <tr>\n",
       "      <th>2</th>\n",
       "      <td>NaN</td>\n",
       "      <td>Ardenwald-Johnson Creek</td>\n",
       "      <td>Portland, OR</td>\n",
       "      <td>Oregon</td>\n",
       "    </tr>\n",
       "    <tr>\n",
       "      <th>3</th>\n",
       "      <td>NaN</td>\n",
       "      <td>Argay</td>\n",
       "      <td>Portland, OR</td>\n",
       "      <td>Oregon</td>\n",
       "    </tr>\n",
       "    <tr>\n",
       "      <th>4</th>\n",
       "      <td>NaN</td>\n",
       "      <td>Arlington Heights</td>\n",
       "      <td>Portland, OR</td>\n",
       "      <td>Oregon</td>\n",
       "    </tr>\n",
       "    <tr>\n",
       "      <th>...</th>\n",
       "      <td>...</td>\n",
       "      <td>...</td>\n",
       "      <td>...</td>\n",
       "      <td>...</td>\n",
       "    </tr>\n",
       "    <tr>\n",
       "      <th>198</th>\n",
       "      <td>NaN</td>\n",
       "      <td>Village Center</td>\n",
       "      <td>San Diego, CA</td>\n",
       "      <td>California</td>\n",
       "    </tr>\n",
       "    <tr>\n",
       "      <th>199</th>\n",
       "      <td>NaN</td>\n",
       "      <td>Webster</td>\n",
       "      <td>San Diego, CA</td>\n",
       "      <td>California</td>\n",
       "    </tr>\n",
       "    <tr>\n",
       "      <th>200</th>\n",
       "      <td>NaN</td>\n",
       "      <td>West University Heights</td>\n",
       "      <td>San Diego, CA</td>\n",
       "      <td>California</td>\n",
       "    </tr>\n",
       "    <tr>\n",
       "      <th>201</th>\n",
       "      <td>NaN</td>\n",
       "      <td>Wooded Area</td>\n",
       "      <td>San Diego, CA</td>\n",
       "      <td>California</td>\n",
       "    </tr>\n",
       "    <tr>\n",
       "      <th>202</th>\n",
       "      <td>NaN</td>\n",
       "      <td>Yosemite Dr</td>\n",
       "      <td>San Diego, CA</td>\n",
       "      <td>California</td>\n",
       "    </tr>\n",
       "  </tbody>\n",
       "</table>\n",
       "<p>203 rows × 4 columns</p>\n",
       "</div>"
      ],
      "text/plain": [
       "     neighbourhood_group            neighbourhood     city_state       state\n",
       "0                    NaN                  Alameda   Portland, OR      Oregon\n",
       "1                    NaN              Arbor Lodge   Portland, OR      Oregon\n",
       "2                    NaN  Ardenwald-Johnson Creek   Portland, OR      Oregon\n",
       "3                    NaN                    Argay   Portland, OR      Oregon\n",
       "4                    NaN        Arlington Heights   Portland, OR      Oregon\n",
       "..                   ...                      ...            ...         ...\n",
       "198                  NaN           Village Center  San Diego, CA  California\n",
       "199                  NaN                  Webster  San Diego, CA  California\n",
       "200                  NaN  West University Heights  San Diego, CA  California\n",
       "201                  NaN              Wooded Area  San Diego, CA  California\n",
       "202                  NaN              Yosemite Dr  San Diego, CA  California\n",
       "\n",
       "[203 rows x 4 columns]"
      ]
     },
     "execution_count": 32,
     "metadata": {},
     "output_type": "execute_result"
    }
   ],
   "source": [
    "neighborhood_df"
   ]
  },
  {
   "cell_type": "markdown",
   "metadata": {},
   "source": [
    "<div style=\"padding: 5px; padding-left: 10px; background: #F0FAFF; \"> \n",
    "data cleaning:\n",
    "    \n",
    "* drop unnecessary columns \n",
    "    * neighborhood group: mostly NaNs\n",
    "* rename columns"
   ]
  },
  {
   "cell_type": "code",
   "execution_count": 33,
   "metadata": {},
   "outputs": [],
   "source": [
    "neighborhood_df = neighborhood_df.drop(columns = [\"neighbourhood_group\"])"
   ]
  },
  {
   "cell_type": "code",
   "execution_count": 34,
   "metadata": {},
   "outputs": [],
   "source": [
    "neighborhood_df = neighborhood_df.rename(columns={\"neighbourhood\":\"neighborhood\"})"
   ]
  },
  {
   "cell_type": "markdown",
   "metadata": {},
   "source": [
    "<div style=\"padding: 5px; padding-left: 10px; background: #F0FAFF; \"> \n",
    "save updated csv"
   ]
  },
  {
   "cell_type": "code",
   "execution_count": 35,
   "metadata": {},
   "outputs": [],
   "source": [
    "csv_save_path = r\"C:\\Users\\kater\\AI_python_packages\\CSE514\\project_datasets\\preprocessed_csvs\\subset\"\n",
    "save_name = \"neighborhoods_subset.csv\"\n",
    "neighborhood_df.to_csv(os.path.join(csv_save_path, save_name))"
   ]
  }
 ],
 "metadata": {
  "kernelspec": {
   "display_name": "Python 3",
   "language": "python",
   "name": "python3"
  },
  "language_info": {
   "codemirror_mode": {
    "name": "ipython",
    "version": 3
   },
   "file_extension": ".py",
   "mimetype": "text/x-python",
   "name": "python",
   "nbconvert_exporter": "python",
   "pygments_lexer": "ipython3",
   "version": "3.8.3"
  }
 },
 "nbformat": 4,
 "nbformat_minor": 4
}
